{
 "cells": [
  {
   "cell_type": "code",
   "execution_count": 6,
   "id": "dd1c95a6",
   "metadata": {},
   "outputs": [
    {
     "name": "stdout",
     "output_type": "stream",
     "text": [
      "== Membuat boidata sederhana dengan menggunakan fungsi input(), dan output variabel dengan menggunakan fungsi format()==\n",
      "Masukan nama anda : Ahmad Rico\n",
      "Masukan Umur : 21\n",
      "Masukan Tempat anda berkuliah : Universitas Nusa Putra\n",
      "Masukan Jurusan anda : Teknik Informatika\n",
      "Masukan kelas anda : TI22F\n",
      "Masukan NIM : 20220040100\n",
      "Apa tujuan anda masuk jurusan Teknik Informatika ? \n",
      "==================================================================================================\n",
      "Nama saya Ahmad Rico. Umur 21 tahun. \n",
      "Saya sedang berkuliah di Universitas Nusa Putra, jurusan Teknik Informatika. Saya berada di kelas TI22F dengan NIM 20220040100. \n",
      "Tujuan saya masuk jurusan Teknik Informatika adalah .\n"
     ]
    }
   ],
   "source": [
    "#code here\n",
    "\n",
    "print('== Membuat boidata sederhana dengan menggunakan fungsi input(), dan output variabel dengan menggunakan fungsi format()==')\n",
    "\n",
    "nama = (input(\"Masukan nama anda : \"))\n",
    "umur = (input(\"Masukan Umur : \"))\n",
    "kuliah = (input(\"Masukan Tempat anda berkuliah : \"))\n",
    "jurusan = (input(\"Masukan Jurusan anda : \"))\n",
    "kelas = (input(\"Masukan kelas anda : \"))\n",
    "nim = (input(\"Masukan NIM : \"))\n",
    "tujuan = (input(f\"Apa tujuan anda masuk jurusan {jurusan} ? \"))\n",
    "print('==================================================================================================')\n",
    "\n",
    "print('''Nama saya {}. Umur {} tahun. \n",
    "Saya sedang berkuliah di {}, jurusan {}. Saya berada di kelas {} dengan NIM {}. \n",
    "Tujuan saya masuk jurusan {} adalah {}.'''.format(nama,umur,kuliah,jurusan,kelas,nim,jurusan,tujuan))"
   ]
  },
  {
   "cell_type": "code",
   "execution_count": 5,
   "id": "7eed26b6",
   "metadata": {},
   "outputs": [
    {
     "name": "stdout",
     "output_type": "stream",
     "text": [
      "1.\n",
      "putra nusa\n",
      "2.\n",
      "NIVERSITAS NSA PTRA SKABMI\n",
      "3.\n",
      "SUKABUMI PUTRA NUSA UNIVERSITAS\n",
      "4.\n",
      "TAS SAPU BUMI\n"
     ]
    }
   ],
   "source": [
    "#code here\n",
    "\n",
    "kalimat = \"UNIVERSITAS NUSA PUTRA SUKABUMI\"\n",
    "kalimat_split = kalimat.split()\n",
    "\n",
    "#1\n",
    "print('1.')\n",
    "print(kalimat[17:22].lower(),kalimat[12:16].lower())\n",
    "\n",
    "#2\n",
    "print('2.')\n",
    "print(kalimat.replace('U',''))\n",
    "\n",
    "#3\n",
    "print('3.')\n",
    "print(kalimat_split[3],kalimat_split[2],kalimat_split[1],kalimat_split[0])\n",
    "\n",
    "#4\n",
    "print('4.')\n",
    "print(kalimat[8:11],kalimat[14:16]+kalimat[17:19],kalimat[-4:])"
   ]
  },
  {
   "cell_type": "code",
   "execution_count": null,
   "id": "b2493a18",
   "metadata": {},
   "outputs": [],
   "source": []
  }
 ],
 "metadata": {
  "kernelspec": {
   "display_name": "Python 3 (ipykernel)",
   "language": "python",
   "name": "python3"
  },
  "language_info": {
   "codemirror_mode": {
    "name": "ipython",
    "version": 3
   },
   "file_extension": ".py",
   "mimetype": "text/x-python",
   "name": "python",
   "nbconvert_exporter": "python",
   "pygments_lexer": "ipython3",
   "version": "3.9.13"
  }
 },
 "nbformat": 4,
 "nbformat_minor": 5
}
